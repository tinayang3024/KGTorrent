{
 "cells": [
  {
   "cell_type": "markdown",
   "metadata": {
    "papermill": {
     "duration": 0.016749,
     "end_time": "2020-09-21T19:14:24.266222",
     "exception": false,
     "start_time": "2020-09-21T19:14:24.249473",
     "status": "completed"
    },
    "tags": []
   },
   "source": [
    "This notebook shows you how to build a model for predicting degradation at various locations along RNA sequence. \n",
    "* We will first pre-process and tokenize the sequence, secondary structure and loop type. \n",
    "* Then, we will use all the information to train a model on degradations recorded by the researchers from OpenVaccine. \n",
    "* Finally, we run our model on the public test set (shorter sequences) and the private test set (longer sequences), and submit the predictions.\n",
    "\n",
    "For more details, please see [this discussion post](https://www.kaggle.com/c/stanford-covid-vaccine/discussion/182303).\n",
    "\n",
    "---\n",
    "\n",
    "Updates:\n",
    "\n",
    "* V7: Updated kernel initializer, embedding dimension, and added spatial dropout. Changed epochs and validation split. All based on [Tucker's excellent kernel](https://www.kaggle.com/tuckerarrants/openvaccine-gru-lstm#Training) (go give them an upvote!).\n",
    "* V8-9: Changed loss from MSE to M-MCRMSE, which is the official competition metric. See [this post](https://www.kaggle.com/c/stanford-covid-vaccine/discussion/183211) for more details. Changed number of epochs to 100.\n",
    "* V10: loss function: M-MCRMSE -> MCRMSE\n",
    "* V11: Filter `signal_to_noise` to be greater than 1, since the same was applied to private set. See [this post](https://www.kaggle.com/c/stanford-covid-vaccine/discussion/183992). \n",
    "* V12: Loss function: MCRMSE -> M-MCRMSE.\n",
    "* V13: Decrease and stratify validation set based on `SN_filter`. Increase embedding size, GRU dimensions, number of layers. All inspired from Tucker's work again."
   ]
  },
  {
   "cell_type": "code",
   "execution_count": 1,
   "metadata": {
    "_cell_guid": "b1076dfc-b9ad-4769-8c92-a6c4dae69d19",
    "_uuid": "8f2839f25d086af736a60e9eeb907d3b93b6e0e5",
    "execution": {
     "iopub.execute_input": "2020-09-21T19:14:24.303817Z",
     "iopub.status.busy": "2020-09-21T19:14:24.303032Z",
     "iopub.status.idle": "2020-09-21T19:14:31.721854Z",
     "shell.execute_reply": "2020-09-21T19:14:31.720483Z"
    },
    "papermill": {
     "duration": 7.439993,
     "end_time": "2020-09-21T19:14:31.722006",
     "exception": false,
     "start_time": "2020-09-21T19:14:24.282013",
     "status": "completed"
    },
    "tags": []
   },
   "outputs": [],
   "source": [
    "import json\n",
    "\n",
    "import pandas as pd\n",
    "import numpy as np\n",
    "import plotly.express as px\n",
    "import tensorflow.keras.layers as L\n",
    "import tensorflow as tf\n",
    "from sklearn.model_selection import train_test_split"
   ]
  },
  {
   "cell_type": "markdown",
   "metadata": {
    "papermill": {
     "duration": 0.015601,
     "end_time": "2020-09-21T19:14:31.753311",
     "exception": false,
     "start_time": "2020-09-21T19:14:31.737710",
     "status": "completed"
    },
    "tags": []
   },
   "source": [
    "## Set seed to ensure reproducibility"
   ]
  },
  {
   "cell_type": "code",
   "execution_count": 2,
   "metadata": {
    "execution": {
     "iopub.execute_input": "2020-09-21T19:14:31.791068Z",
     "iopub.status.busy": "2020-09-21T19:14:31.790143Z",
     "iopub.status.idle": "2020-09-21T19:14:31.792871Z",
     "shell.execute_reply": "2020-09-21T19:14:31.793284Z"
    },
    "papermill": {
     "duration": 0.023205,
     "end_time": "2020-09-21T19:14:31.793402",
     "exception": false,
     "start_time": "2020-09-21T19:14:31.770197",
     "status": "completed"
    },
    "tags": []
   },
   "outputs": [],
   "source": [
    "tf.random.set_seed(2020)\n",
    "np.random.seed(2020)"
   ]
  },
  {
   "cell_type": "markdown",
   "metadata": {
    "papermill": {
     "duration": 0.015586,
     "end_time": "2020-09-21T19:14:31.825022",
     "exception": false,
     "start_time": "2020-09-21T19:14:31.809436",
     "status": "completed"
    },
    "tags": []
   },
   "source": [
    "## Helper functions and useful variables"
   ]
  },
  {
   "cell_type": "code",
   "execution_count": 3,
   "metadata": {
    "execution": {
     "iopub.execute_input": "2020-09-21T19:14:31.861012Z",
     "iopub.status.busy": "2020-09-21T19:14:31.860326Z",
     "iopub.status.idle": "2020-09-21T19:14:31.863509Z",
     "shell.execute_reply": "2020-09-21T19:14:31.862977Z"
    },
    "papermill": {
     "duration": 0.023105,
     "end_time": "2020-09-21T19:14:31.863593",
     "exception": false,
     "start_time": "2020-09-21T19:14:31.840488",
     "status": "completed"
    },
    "tags": []
   },
   "outputs": [],
   "source": [
    "# This will tell us the columns we are predicting\n",
    "pred_cols = ['reactivity', 'deg_Mg_pH10', 'deg_Mg_50C', 'deg_pH10', 'deg_50C']"
   ]
  },
  {
   "cell_type": "code",
   "execution_count": 4,
   "metadata": {
    "execution": {
     "iopub.execute_input": "2020-09-21T19:14:34.717633Z",
     "iopub.status.busy": "2020-09-21T19:14:34.716878Z",
     "iopub.status.idle": "2020-09-21T19:14:35.024004Z",
     "shell.execute_reply": "2020-09-21T19:14:35.022862Z"
    },
    "papermill": {
     "duration": 3.145166,
     "end_time": "2020-09-21T19:14:35.024132",
     "exception": false,
     "start_time": "2020-09-21T19:14:31.878966",
     "status": "completed"
    },
    "tags": []
   },
   "outputs": [],
   "source": [
    "y_true = tf.random.normal((32, 68, 3))\n",
    "y_pred = tf.random.normal((32, 68, 3))"
   ]
  },
  {
   "cell_type": "code",
   "execution_count": 5,
   "metadata": {
    "execution": {
     "iopub.execute_input": "2020-09-21T19:14:35.062872Z",
     "iopub.status.busy": "2020-09-21T19:14:35.061046Z",
     "iopub.status.idle": "2020-09-21T19:14:35.063516Z",
     "shell.execute_reply": "2020-09-21T19:14:35.063955Z"
    },
    "papermill": {
     "duration": 0.023761,
     "end_time": "2020-09-21T19:14:35.064068",
     "exception": false,
     "start_time": "2020-09-21T19:14:35.040307",
     "status": "completed"
    },
    "tags": []
   },
   "outputs": [],
   "source": [
    "def MCRMSE(y_true, y_pred):\n",
    "    colwise_mse = tf.reduce_mean(tf.square(y_true - y_pred), axis=1)\n",
    "    return tf.reduce_mean(tf.sqrt(colwise_mse), axis=1)"
   ]
  },
  {
   "cell_type": "code",
   "execution_count": 6,
   "metadata": {
    "execution": {
     "iopub.execute_input": "2020-09-21T19:14:35.101654Z",
     "iopub.status.busy": "2020-09-21T19:14:35.100001Z",
     "iopub.status.idle": "2020-09-21T19:14:35.102288Z",
     "shell.execute_reply": "2020-09-21T19:14:35.102699Z"
    },
    "papermill": {
     "duration": 0.022826,
     "end_time": "2020-09-21T19:14:35.102795",
     "exception": false,
     "start_time": "2020-09-21T19:14:35.079969",
     "status": "completed"
    },
    "tags": []
   },
   "outputs": [],
   "source": [
    "def gru_layer(hidden_dim, dropout):\n",
    "    return L.Bidirectional(L.GRU(\n",
    "        hidden_dim, dropout=dropout, return_sequences=True, kernel_initializer='orthogonal'))"
   ]
  },
  {
   "cell_type": "code",
   "execution_count": 7,
   "metadata": {
    "execution": {
     "iopub.execute_input": "2020-09-21T19:14:35.144079Z",
     "iopub.status.busy": "2020-09-21T19:14:35.143490Z",
     "iopub.status.idle": "2020-09-21T19:14:35.146259Z",
     "shell.execute_reply": "2020-09-21T19:14:35.146683Z"
    },
    "papermill": {
     "duration": 0.027969,
     "end_time": "2020-09-21T19:14:35.146782",
     "exception": false,
     "start_time": "2020-09-21T19:14:35.118813",
     "status": "completed"
    },
    "tags": []
   },
   "outputs": [],
   "source": [
    "def build_model(embed_size, seq_len=107, pred_len=68, dropout=0.5, \n",
    "                sp_dropout=0.2, embed_dim=200, hidden_dim=256, n_layers=3):\n",
    "    inputs = L.Input(shape=(seq_len, 3))\n",
    "    embed = L.Embedding(input_dim=embed_size, output_dim=embed_dim)(inputs)\n",
    "    \n",
    "    reshaped = tf.reshape(\n",
    "        embed, shape=(-1, embed.shape[1],  embed.shape[2] * embed.shape[3])\n",
    "    )\n",
    "    hidden = L.SpatialDropout1D(sp_dropout)(reshaped)\n",
    "    \n",
    "    for x in range(n_layers):\n",
    "        hidden = gru_layer(hidden_dim, dropout)(hidden)\n",
    "    \n",
    "    # Since we are only making predictions on the first part of each sequence, \n",
    "    # we have to truncate it\n",
    "    truncated = hidden[:, :pred_len]\n",
    "    out = L.Dense(5, activation='linear')(truncated)\n",
    "    \n",
    "    model = tf.keras.Model(inputs=inputs, outputs=out)\n",
    "    model.compile(tf.optimizers.Adam(), loss=MCRMSE)\n",
    "    \n",
    "    return model"
   ]
  },
  {
   "cell_type": "code",
   "execution_count": 8,
   "metadata": {
    "execution": {
     "iopub.execute_input": "2020-09-21T19:14:35.183508Z",
     "iopub.status.busy": "2020-09-21T19:14:35.182991Z",
     "iopub.status.idle": "2020-09-21T19:14:35.187127Z",
     "shell.execute_reply": "2020-09-21T19:14:35.186649Z"
    },
    "papermill": {
     "duration": 0.02468,
     "end_time": "2020-09-21T19:14:35.187271",
     "exception": false,
     "start_time": "2020-09-21T19:14:35.162591",
     "status": "completed"
    },
    "tags": []
   },
   "outputs": [],
   "source": [
    "def pandas_list_to_array(df):\n",
    "    \"\"\"\n",
    "    Input: dataframe of shape (x, y), containing list of length l\n",
    "    Return: np.array of shape (x, l, y)\n",
    "    \"\"\"\n",
    "    \n",
    "    return np.transpose(\n",
    "        np.array(df.values.tolist()),\n",
    "        (0, 2, 1)\n",
    "    )"
   ]
  },
  {
   "cell_type": "code",
   "execution_count": 9,
   "metadata": {
    "execution": {
     "iopub.execute_input": "2020-09-21T19:14:35.224564Z",
     "iopub.status.busy": "2020-09-21T19:14:35.224047Z",
     "iopub.status.idle": "2020-09-21T19:14:35.228247Z",
     "shell.execute_reply": "2020-09-21T19:14:35.227598Z"
    },
    "papermill": {
     "duration": 0.024915,
     "end_time": "2020-09-21T19:14:35.228338",
     "exception": false,
     "start_time": "2020-09-21T19:14:35.203423",
     "status": "completed"
    },
    "tags": []
   },
   "outputs": [],
   "source": [
    "def preprocess_inputs(df, token2int, cols=['sequence', 'structure', 'predicted_loop_type']):\n",
    "    return pandas_list_to_array(\n",
    "        df[cols].applymap(lambda seq: [token2int[x] for x in seq])\n",
    "    )"
   ]
  },
  {
   "cell_type": "markdown",
   "metadata": {
    "papermill": {
     "duration": 0.016142,
     "end_time": "2020-09-21T19:14:35.260833",
     "exception": false,
     "start_time": "2020-09-21T19:14:35.244691",
     "status": "completed"
    },
    "tags": []
   },
   "source": [
    "## Load and preprocess data"
   ]
  },
  {
   "cell_type": "code",
   "execution_count": 10,
   "metadata": {
    "execution": {
     "iopub.execute_input": "2020-09-21T19:14:35.313850Z",
     "iopub.status.busy": "2020-09-21T19:14:35.313032Z",
     "iopub.status.idle": "2020-09-21T19:14:36.380847Z",
     "shell.execute_reply": "2020-09-21T19:14:36.379351Z"
    },
    "papermill": {
     "duration": 1.103733,
     "end_time": "2020-09-21T19:14:36.380980",
     "exception": false,
     "start_time": "2020-09-21T19:14:35.277247",
     "status": "completed"
    },
    "tags": []
   },
   "outputs": [],
   "source": [
    "data_dir = '/kaggle/input/stanford-covid-vaccine/'\n",
    "train = pd.read_json(data_dir + 'train.json', lines=True)\n",
    "test = pd.read_json(data_dir + 'test.json', lines=True)\n",
    "sample_df = pd.read_csv(data_dir + 'sample_submission.csv')"
   ]
  },
  {
   "cell_type": "code",
   "execution_count": 11,
   "metadata": {
    "execution": {
     "iopub.execute_input": "2020-09-21T19:14:36.428995Z",
     "iopub.status.busy": "2020-09-21T19:14:36.422618Z",
     "iopub.status.idle": "2020-09-21T19:14:36.439513Z",
     "shell.execute_reply": "2020-09-21T19:14:36.439886Z"
    },
    "papermill": {
     "duration": 0.041781,
     "end_time": "2020-09-21T19:14:36.440019",
     "exception": false,
     "start_time": "2020-09-21T19:14:36.398238",
     "status": "completed"
    },
    "tags": []
   },
   "outputs": [],
   "source": [
    "train = train.query(\"signal_to_noise >= 1\")"
   ]
  },
  {
   "cell_type": "code",
   "execution_count": 12,
   "metadata": {
    "execution": {
     "iopub.execute_input": "2020-09-21T19:14:36.494505Z",
     "iopub.status.busy": "2020-09-21T19:14:36.493859Z",
     "iopub.status.idle": "2020-09-21T19:14:36.758198Z",
     "shell.execute_reply": "2020-09-21T19:14:36.757471Z"
    },
    "papermill": {
     "duration": 0.30147,
     "end_time": "2020-09-21T19:14:36.758347",
     "exception": false,
     "start_time": "2020-09-21T19:14:36.456877",
     "status": "completed"
    },
    "tags": []
   },
   "outputs": [],
   "source": [
    "# We will use this dictionary to map each character to an integer\n",
    "# so that it can be used as an input in keras\n",
    "token2int = {x:i for i, x in enumerate('().ACGUBEHIMSX')}\n",
    "\n",
    "train_inputs = preprocess_inputs(train, token2int)\n",
    "train_labels = pandas_list_to_array(train[pred_cols])"
   ]
  },
  {
   "cell_type": "code",
   "execution_count": 13,
   "metadata": {
    "execution": {
     "iopub.execute_input": "2020-09-21T19:14:36.802707Z",
     "iopub.status.busy": "2020-09-21T19:14:36.802199Z",
     "iopub.status.idle": "2020-09-21T19:14:36.812743Z",
     "shell.execute_reply": "2020-09-21T19:14:36.812312Z"
    },
    "papermill": {
     "duration": 0.033305,
     "end_time": "2020-09-21T19:14:36.812843",
     "exception": false,
     "start_time": "2020-09-21T19:14:36.779538",
     "status": "completed"
    },
    "tags": []
   },
   "outputs": [],
   "source": [
    "x_train, x_val, y_train, y_val = train_test_split(\n",
    "    train_inputs, train_labels, test_size=.1, random_state=34, stratify=train.SN_filter)"
   ]
  },
  {
   "cell_type": "markdown",
   "metadata": {
    "papermill": {
     "duration": 0.016647,
     "end_time": "2020-09-21T19:14:36.846680",
     "exception": false,
     "start_time": "2020-09-21T19:14:36.830033",
     "status": "completed"
    },
    "tags": []
   },
   "source": [
    "Public and private sets have different sequence lengths, so we will preprocess them separately and load models of different tensor shapes."
   ]
  },
  {
   "cell_type": "code",
   "execution_count": 14,
   "metadata": {
    "execution": {
     "iopub.execute_input": "2020-09-21T19:14:36.887894Z",
     "iopub.status.busy": "2020-09-21T19:14:36.886935Z",
     "iopub.status.idle": "2020-09-21T19:14:37.232691Z",
     "shell.execute_reply": "2020-09-21T19:14:37.233151Z"
    },
    "papermill": {
     "duration": 0.369914,
     "end_time": "2020-09-21T19:14:37.233297",
     "exception": false,
     "start_time": "2020-09-21T19:14:36.863383",
     "status": "completed"
    },
    "tags": []
   },
   "outputs": [],
   "source": [
    "public_df = test.query(\"seq_length == 107\")\n",
    "private_df = test.query(\"seq_length == 130\")\n",
    "\n",
    "public_inputs = preprocess_inputs(public_df, token2int)\n",
    "private_inputs = preprocess_inputs(private_df, token2int)"
   ]
  },
  {
   "cell_type": "markdown",
   "metadata": {
    "papermill": {
     "duration": 0.0169,
     "end_time": "2020-09-21T19:14:37.269739",
     "exception": false,
     "start_time": "2020-09-21T19:14:37.252839",
     "status": "completed"
    },
    "tags": []
   },
   "source": [
    "## Build and train model\n",
    "\n",
    "We will train a bi-directional GRU model. It has three layer and has dropout. To learn more about RNNs, LSTM and GRU, please see [this blog post](https://colah.github.io/posts/2015-08-Understanding-LSTMs/)."
   ]
  },
  {
   "cell_type": "code",
   "execution_count": 15,
   "metadata": {
    "execution": {
     "iopub.execute_input": "2020-09-21T19:14:37.321378Z",
     "iopub.status.busy": "2020-09-21T19:14:37.320496Z",
     "iopub.status.idle": "2020-09-21T19:14:39.047154Z",
     "shell.execute_reply": "2020-09-21T19:14:39.046677Z"
    },
    "papermill": {
     "duration": 1.760583,
     "end_time": "2020-09-21T19:14:39.047263",
     "exception": false,
     "start_time": "2020-09-21T19:14:37.286680",
     "status": "completed"
    },
    "tags": []
   },
   "outputs": [
    {
     "name": "stdout",
     "output_type": "stream",
     "text": [
      "Model: \"functional_1\"\n",
      "_________________________________________________________________\n",
      "Layer (type)                 Output Shape              Param #   \n",
      "=================================================================\n",
      "input_1 (InputLayer)         [(None, 107, 3)]          0         \n",
      "_________________________________________________________________\n",
      "embedding (Embedding)        (None, 107, 3, 200)       2800      \n",
      "_________________________________________________________________\n",
      "tf_op_layer_Reshape (TensorF [(None, 107, 600)]        0         \n",
      "_________________________________________________________________\n",
      "spatial_dropout1d (SpatialDr (None, 107, 600)          0         \n",
      "_________________________________________________________________\n",
      "bidirectional (Bidirectional (None, 107, 512)          1317888   \n",
      "_________________________________________________________________\n",
      "bidirectional_1 (Bidirection (None, 107, 512)          1182720   \n",
      "_________________________________________________________________\n",
      "bidirectional_2 (Bidirection (None, 107, 512)          1182720   \n",
      "_________________________________________________________________\n",
      "tf_op_layer_strided_slice (T [(None, 68, 512)]         0         \n",
      "_________________________________________________________________\n",
      "dense (Dense)                (None, 68, 5)             2565      \n",
      "=================================================================\n",
      "Total params: 3,688,693\n",
      "Trainable params: 3,688,693\n",
      "Non-trainable params: 0\n",
      "_________________________________________________________________\n"
     ]
    }
   ],
   "source": [
    "model = build_model(embed_size=len(token2int))\n",
    "model.summary()"
   ]
  },
  {
   "cell_type": "code",
   "execution_count": 16,
   "metadata": {
    "_kg_hide-output": true,
    "execution": {
     "iopub.execute_input": "2020-09-21T19:14:39.095269Z",
     "iopub.status.busy": "2020-09-21T19:14:39.094229Z",
     "iopub.status.idle": "2020-09-21T19:18:27.373747Z",
     "shell.execute_reply": "2020-09-21T19:18:27.375034Z"
    },
    "papermill": {
     "duration": 228.308468,
     "end_time": "2020-09-21T19:18:27.375290",
     "exception": false,
     "start_time": "2020-09-21T19:14:39.066822",
     "status": "completed"
    },
    "tags": []
   },
   "outputs": [
    {
     "name": "stdout",
     "output_type": "stream",
     "text": [
      "Epoch 1/75\n",
      "30/30 - 4s - loss: 0.4565 - val_loss: 0.3878\n",
      "Epoch 2/75\n",
      "30/30 - 3s - loss: 0.3889 - val_loss: 0.3591\n",
      "Epoch 3/75\n",
      "30/30 - 3s - loss: 0.3633 - val_loss: 0.3429\n",
      "Epoch 4/75\n",
      "30/30 - 3s - loss: 0.3504 - val_loss: 0.3280\n",
      "Epoch 5/75\n",
      "30/30 - 3s - loss: 0.3398 - val_loss: 0.3219\n",
      "Epoch 6/75\n",
      "30/30 - 3s - loss: 0.3320 - val_loss: 0.3200\n",
      "Epoch 7/75\n",
      "30/30 - 3s - loss: 0.3250 - val_loss: 0.3109\n",
      "Epoch 8/75\n",
      "30/30 - 3s - loss: 0.3165 - val_loss: 0.3016\n",
      "Epoch 9/75\n",
      "30/30 - 3s - loss: 0.3103 - val_loss: 0.2966\n",
      "Epoch 10/75\n",
      "30/30 - 3s - loss: 0.3016 - val_loss: 0.2866\n",
      "Epoch 11/75\n",
      "30/30 - 3s - loss: 0.2940 - val_loss: 0.2800\n",
      "Epoch 12/75\n",
      "30/30 - 3s - loss: 0.2879 - val_loss: 0.2767\n",
      "Epoch 13/75\n",
      "30/30 - 3s - loss: 0.2832 - val_loss: 0.2693\n",
      "Epoch 14/75\n",
      "30/30 - 3s - loss: 0.2748 - val_loss: 0.2639\n",
      "Epoch 15/75\n",
      "30/30 - 3s - loss: 0.2678 - val_loss: 0.2577\n",
      "Epoch 16/75\n",
      "30/30 - 3s - loss: 0.2628 - val_loss: 0.2537\n",
      "Epoch 17/75\n",
      "30/30 - 3s - loss: 0.2590 - val_loss: 0.2566\n",
      "Epoch 18/75\n",
      "30/30 - 3s - loss: 0.2558 - val_loss: 0.2507\n",
      "Epoch 19/75\n",
      "30/30 - 3s - loss: 0.2528 - val_loss: 0.2494\n",
      "Epoch 20/75\n",
      "30/30 - 3s - loss: 0.2498 - val_loss: 0.2422\n",
      "Epoch 21/75\n",
      "30/30 - 3s - loss: 0.2436 - val_loss: 0.2436\n",
      "Epoch 22/75\n",
      "30/30 - 3s - loss: 0.2403 - val_loss: 0.2405\n",
      "Epoch 23/75\n",
      "30/30 - 3s - loss: 0.2395 - val_loss: 0.2468\n",
      "Epoch 24/75\n",
      "30/30 - 3s - loss: 0.2375 - val_loss: 0.2400\n",
      "Epoch 25/75\n",
      "30/30 - 3s - loss: 0.2344 - val_loss: 0.2375\n",
      "Epoch 26/75\n",
      "30/30 - 3s - loss: 0.2329 - val_loss: 0.2367\n",
      "Epoch 27/75\n",
      "30/30 - 3s - loss: 0.2302 - val_loss: 0.2374\n",
      "Epoch 28/75\n",
      "30/30 - 3s - loss: 0.2279 - val_loss: 0.2350\n",
      "Epoch 29/75\n",
      "30/30 - 3s - loss: 0.2267 - val_loss: 0.2370\n",
      "Epoch 30/75\n",
      "30/30 - 3s - loss: 0.2242 - val_loss: 0.2349\n",
      "Epoch 31/75\n",
      "30/30 - 3s - loss: 0.2225 - val_loss: 0.2328\n",
      "Epoch 32/75\n",
      "30/30 - 3s - loss: 0.2207 - val_loss: 0.2347\n",
      "Epoch 33/75\n",
      "30/30 - 3s - loss: 0.2192 - val_loss: 0.2314\n",
      "Epoch 34/75\n",
      "30/30 - 3s - loss: 0.2174 - val_loss: 0.2329\n",
      "Epoch 35/75\n",
      "30/30 - 3s - loss: 0.2162 - val_loss: 0.2294\n",
      "Epoch 36/75\n",
      "30/30 - 3s - loss: 0.2145 - val_loss: 0.2303\n",
      "Epoch 37/75\n",
      "30/30 - 3s - loss: 0.2126 - val_loss: 0.2264\n",
      "Epoch 38/75\n",
      "30/30 - 3s - loss: 0.2104 - val_loss: 0.2287\n",
      "Epoch 39/75\n",
      "30/30 - 3s - loss: 0.2089 - val_loss: 0.2265\n",
      "Epoch 40/75\n",
      "30/30 - 3s - loss: 0.2072 - val_loss: 0.2240\n",
      "Epoch 41/75\n",
      "30/30 - 3s - loss: 0.2054 - val_loss: 0.2256\n",
      "Epoch 42/75\n",
      "30/30 - 3s - loss: 0.2050 - val_loss: 0.2284\n",
      "Epoch 43/75\n",
      "30/30 - 3s - loss: 0.2038 - val_loss: 0.2263\n",
      "Epoch 44/75\n",
      "30/30 - 3s - loss: 0.2017 - val_loss: 0.2268\n",
      "Epoch 45/75\n",
      "30/30 - 3s - loss: 0.2016 - val_loss: 0.2246\n",
      "Epoch 46/75\n",
      "30/30 - 3s - loss: 0.1959 - val_loss: 0.2222\n",
      "Epoch 47/75\n",
      "30/30 - 3s - loss: 0.1937 - val_loss: 0.2219\n",
      "Epoch 48/75\n",
      "30/30 - 3s - loss: 0.1934 - val_loss: 0.2213\n",
      "Epoch 49/75\n",
      "30/30 - 3s - loss: 0.1927 - val_loss: 0.2217\n",
      "Epoch 50/75\n",
      "30/30 - 3s - loss: 0.1923 - val_loss: 0.2217\n",
      "Epoch 51/75\n",
      "30/30 - 3s - loss: 0.1922 - val_loss: 0.2214\n",
      "Epoch 52/75\n",
      "30/30 - 3s - loss: 0.1921 - val_loss: 0.2208\n",
      "Epoch 53/75\n",
      "30/30 - 3s - loss: 0.1912 - val_loss: 0.2214\n",
      "Epoch 54/75\n",
      "30/30 - 3s - loss: 0.1911 - val_loss: 0.2213\n",
      "Epoch 55/75\n",
      "30/30 - 3s - loss: 0.1911 - val_loss: 0.2216\n",
      "Epoch 56/75\n",
      "30/30 - 3s - loss: 0.1910 - val_loss: 0.2208\n",
      "Epoch 57/75\n",
      "30/30 - 3s - loss: 0.1904 - val_loss: 0.2211\n",
      "Epoch 58/75\n",
      "30/30 - 3s - loss: 0.1905 - val_loss: 0.2209\n",
      "Epoch 59/75\n",
      "30/30 - 3s - loss: 0.1901 - val_loss: 0.2210\n",
      "Epoch 60/75\n",
      "30/30 - 3s - loss: 0.1899 - val_loss: 0.2209\n",
      "Epoch 61/75\n",
      "30/30 - 3s - loss: 0.1896 - val_loss: 0.2209\n",
      "Epoch 62/75\n",
      "30/30 - 3s - loss: 0.1903 - val_loss: 0.2210\n",
      "Epoch 63/75\n",
      "30/30 - 3s - loss: 0.1899 - val_loss: 0.2210\n",
      "Epoch 64/75\n",
      "30/30 - 3s - loss: 0.1899 - val_loss: 0.2210\n",
      "Epoch 65/75\n",
      "30/30 - 3s - loss: 0.1900 - val_loss: 0.2210\n",
      "Epoch 66/75\n",
      "30/30 - 3s - loss: 0.1900 - val_loss: 0.2210\n",
      "Epoch 67/75\n",
      "30/30 - 3s - loss: 0.1900 - val_loss: 0.2210\n",
      "Epoch 68/75\n",
      "30/30 - 3s - loss: 0.1898 - val_loss: 0.2210\n",
      "Epoch 69/75\n",
      "30/30 - 3s - loss: 0.1897 - val_loss: 0.2210\n",
      "Epoch 70/75\n",
      "30/30 - 3s - loss: 0.1898 - val_loss: 0.2210\n",
      "Epoch 71/75\n",
      "30/30 - 3s - loss: 0.1899 - val_loss: 0.2210\n",
      "Epoch 72/75\n",
      "30/30 - 3s - loss: 0.1898 - val_loss: 0.2210\n",
      "Epoch 73/75\n",
      "30/30 - 3s - loss: 0.1899 - val_loss: 0.2209\n",
      "Epoch 74/75\n",
      "30/30 - 3s - loss: 0.1899 - val_loss: 0.2209\n",
      "Epoch 75/75\n",
      "30/30 - 3s - loss: 0.1900 - val_loss: 0.2209\n"
     ]
    }
   ],
   "source": [
    "history = model.fit(\n",
    "    x_train, y_train,\n",
    "    validation_data=(x_val, y_val),\n",
    "    batch_size=64,\n",
    "    epochs=75,\n",
    "    verbose=2,\n",
    "    callbacks=[\n",
    "        tf.keras.callbacks.ReduceLROnPlateau(patience=5),\n",
    "        tf.keras.callbacks.ModelCheckpoint('model.h5')\n",
    "    ]\n",
    ")"
   ]
  },
  {
   "cell_type": "markdown",
   "metadata": {
    "papermill": {
     "duration": 0.058997,
     "end_time": "2020-09-21T19:18:27.508901",
     "exception": false,
     "start_time": "2020-09-21T19:18:27.449904",
     "status": "completed"
    },
    "tags": []
   },
   "source": [
    "## Evaluate training history\n",
    "\n",
    "Let's use Plotly to quickly visualize the training and validation loss throughout the epochs."
   ]
  },
  {
   "cell_type": "code",
   "execution_count": 17,
   "metadata": {
    "execution": {
     "iopub.execute_input": "2020-09-21T19:18:27.637121Z",
     "iopub.status.busy": "2020-09-21T19:18:27.636428Z",
     "iopub.status.idle": "2020-09-21T19:18:28.713889Z",
     "shell.execute_reply": "2020-09-21T19:18:28.714350Z"
    },
    "papermill": {
     "duration": 1.143856,
     "end_time": "2020-09-21T19:18:28.714491",
     "exception": false,
     "start_time": "2020-09-21T19:18:27.570635",
     "status": "completed"
    },
    "tags": []
   },
   "outputs": [
    {
     "data": {
      "text/html": [
       "        <script type=\"text/javascript\">\n",
       "        window.PlotlyConfig = {MathJaxConfig: 'local'};\n",
       "        if (window.MathJax) {MathJax.Hub.Config({SVG: {font: \"STIX-Web\"}});}\n",
       "        if (typeof require !== 'undefined') {\n",
       "        require.undef(\"plotly\");\n",
       "        requirejs.config({\n",
       "            paths: {\n",
       "                'plotly': ['https://cdn.plot.ly/plotly-latest.min']\n",
       "            }\n",
       "        });\n",
       "        require(['plotly'], function(Plotly) {\n",
       "            window._Plotly = Plotly;\n",
       "        });\n",
       "        }\n",
       "        </script>\n",
       "        "
      ]
     },
     "metadata": {},
     "output_type": "display_data"
    },
    {
     "data": {
      "text/html": [
       "<div>\n",
       "        \n",
       "        \n",
       "            <div id=\"2c1fb908-7167-497e-803a-cddd98fcf878\" class=\"plotly-graph-div\" style=\"height:525px; width:100%;\"></div>\n",
       "            <script type=\"text/javascript\">\n",
       "                require([\"plotly\"], function(Plotly) {\n",
       "                    window.PLOTLYENV=window.PLOTLYENV || {};\n",
       "                    \n",
       "                if (document.getElementById(\"2c1fb908-7167-497e-803a-cddd98fcf878\")) {\n",
       "                    Plotly.newPlot(\n",
       "                        '2c1fb908-7167-497e-803a-cddd98fcf878',\n",
       "                        [{\"hovertemplate\": \"variable=loss<br>epoch=%{x}<br>MCRMSE=%{y}<extra></extra>\", \"legendgroup\": \"loss\", \"line\": {\"color\": \"#636efa\", \"dash\": \"solid\"}, \"mode\": \"lines\", \"name\": \"loss\", \"orientation\": \"v\", \"showlegend\": true, \"type\": \"scatter\", \"x\": [0, 1, 2, 3, 4, 5, 6, 7, 8, 9, 10, 11, 12, 13, 14, 15, 16, 17, 18, 19, 20, 21, 22, 23, 24, 25, 26, 27, 28, 29, 30, 31, 32, 33, 34, 35, 36, 37, 38, 39, 40, 41, 42, 43, 44, 45, 46, 47, 48, 49, 50, 51, 52, 53, 54, 55, 56, 57, 58, 59, 60, 61, 62, 63, 64, 65, 66, 67, 68, 69, 70, 71, 72, 73, 74], \"xaxis\": \"x\", \"y\": [0.45649367570877075, 0.3888810873031616, 0.3633336126804352, 0.35043907165527344, 0.339785635471344, 0.33199161291122437, 0.3250219225883484, 0.3164776563644409, 0.31032249331474304, 0.3015998899936676, 0.29396212100982666, 0.28792712092399597, 0.283232182264328, 0.27478712797164917, 0.26781100034713745, 0.2627674341201782, 0.2590044140815735, 0.25577548146247864, 0.2528288960456848, 0.2498382329940796, 0.2435532510280609, 0.24027781188488007, 0.23948754370212555, 0.2374822199344635, 0.23435494303703308, 0.23285901546478271, 0.23020070791244507, 0.22785228490829468, 0.22672903537750244, 0.22422553598880768, 0.22249113023281097, 0.2206602394580841, 0.2192479521036148, 0.217396542429924, 0.21623992919921875, 0.21453706920146942, 0.21264810860157013, 0.210356205701828, 0.20888206362724304, 0.20718209445476532, 0.20539478957653046, 0.20498500764369965, 0.20376569032669067, 0.20172853767871857, 0.20160230994224548, 0.19585077464580536, 0.1936635822057724, 0.1934085339307785, 0.19267629086971283, 0.1923101395368576, 0.1921626776456833, 0.19212451577186584, 0.19124925136566162, 0.19112920761108398, 0.19112882018089294, 0.19096027314662933, 0.19041875004768372, 0.19047529995441437, 0.1900756061077118, 0.1899460256099701, 0.1896129548549652, 0.1903076320886612, 0.18993781507015228, 0.18990515172481537, 0.18995918333530426, 0.19004933536052704, 0.18999363481998444, 0.1898270845413208, 0.18970610201358795, 0.1897939145565033, 0.18985208868980408, 0.18978093564510345, 0.1899399310350418, 0.18990689516067505, 0.18995709717273712], \"yaxis\": \"y\"}, {\"hovertemplate\": \"variable=val_loss<br>epoch=%{x}<br>MCRMSE=%{y}<extra></extra>\", \"legendgroup\": \"val_loss\", \"line\": {\"color\": \"#EF553B\", \"dash\": \"solid\"}, \"mode\": \"lines\", \"name\": \"val_loss\", \"orientation\": \"v\", \"showlegend\": true, \"type\": \"scatter\", \"x\": [0, 1, 2, 3, 4, 5, 6, 7, 8, 9, 10, 11, 12, 13, 14, 15, 16, 17, 18, 19, 20, 21, 22, 23, 24, 25, 26, 27, 28, 29, 30, 31, 32, 33, 34, 35, 36, 37, 38, 39, 40, 41, 42, 43, 44, 45, 46, 47, 48, 49, 50, 51, 52, 53, 54, 55, 56, 57, 58, 59, 60, 61, 62, 63, 64, 65, 66, 67, 68, 69, 70, 71, 72, 73, 74], \"xaxis\": \"x\", \"y\": [0.3877853453159332, 0.3591149151325226, 0.3428787887096405, 0.3279508650302887, 0.3218872845172882, 0.31995952129364014, 0.310891330242157, 0.3016118109226227, 0.29658040404319763, 0.2865521311759949, 0.28001317381858826, 0.27671849727630615, 0.26934120059013367, 0.26390522718429565, 0.2576948404312134, 0.2536614239215851, 0.25662410259246826, 0.2506962716579437, 0.24941875040531158, 0.24218332767486572, 0.24359115958213806, 0.24045976996421814, 0.24677956104278564, 0.24003048241138458, 0.23754093050956726, 0.2367294430732727, 0.23737502098083496, 0.23496562242507935, 0.2370118945837021, 0.23485822975635529, 0.23283936083316803, 0.23469726741313934, 0.2314310520887375, 0.23287522792816162, 0.22942228615283966, 0.23034898936748505, 0.2263818234205246, 0.2287328690290451, 0.2264518141746521, 0.2240176498889923, 0.22560244798660278, 0.22839698195457458, 0.226301372051239, 0.2267800122499466, 0.22462444007396698, 0.2221754938364029, 0.22185921669006348, 0.22132684290409088, 0.22167663276195526, 0.2216939777135849, 0.22138729691505432, 0.22079703211784363, 0.22135119140148163, 0.22133618593215942, 0.22163082659244537, 0.22077682614326477, 0.2210705280303955, 0.2208617627620697, 0.22095686197280884, 0.2209370881319046, 0.22088050842285156, 0.22102729976177216, 0.2210170179605484, 0.22098076343536377, 0.22097629308700562, 0.22097629308700562, 0.22095747292041779, 0.22095583379268646, 0.22095318138599396, 0.22095195949077606, 0.22095124423503876, 0.22095009684562683, 0.2209499329328537, 0.22094984352588654, 0.22094972431659698], \"yaxis\": \"y\"}],\n",
       "                        {\"legend\": {\"title\": {\"text\": \"variable\"}, \"tracegroupgap\": 0}, \"template\": {\"data\": {\"bar\": [{\"error_x\": {\"color\": \"#2a3f5f\"}, \"error_y\": {\"color\": \"#2a3f5f\"}, \"marker\": {\"line\": {\"color\": \"#E5ECF6\", \"width\": 0.5}}, \"type\": \"bar\"}], \"barpolar\": [{\"marker\": {\"line\": {\"color\": \"#E5ECF6\", \"width\": 0.5}}, \"type\": \"barpolar\"}], \"carpet\": [{\"aaxis\": {\"endlinecolor\": \"#2a3f5f\", \"gridcolor\": \"white\", \"linecolor\": \"white\", \"minorgridcolor\": \"white\", \"startlinecolor\": \"#2a3f5f\"}, \"baxis\": {\"endlinecolor\": \"#2a3f5f\", \"gridcolor\": \"white\", \"linecolor\": \"white\", \"minorgridcolor\": \"white\", \"startlinecolor\": \"#2a3f5f\"}, \"type\": \"carpet\"}], \"choropleth\": [{\"colorbar\": {\"outlinewidth\": 0, \"ticks\": \"\"}, \"type\": \"choropleth\"}], \"contour\": [{\"colorbar\": {\"outlinewidth\": 0, \"ticks\": \"\"}, \"colorscale\": [[0.0, \"#0d0887\"], [0.1111111111111111, \"#46039f\"], [0.2222222222222222, \"#7201a8\"], [0.3333333333333333, \"#9c179e\"], [0.4444444444444444, \"#bd3786\"], [0.5555555555555556, \"#d8576b\"], [0.6666666666666666, \"#ed7953\"], [0.7777777777777778, \"#fb9f3a\"], [0.8888888888888888, \"#fdca26\"], [1.0, \"#f0f921\"]], \"type\": \"contour\"}], \"contourcarpet\": [{\"colorbar\": {\"outlinewidth\": 0, \"ticks\": \"\"}, \"type\": \"contourcarpet\"}], \"heatmap\": [{\"colorbar\": {\"outlinewidth\": 0, \"ticks\": \"\"}, \"colorscale\": [[0.0, \"#0d0887\"], [0.1111111111111111, \"#46039f\"], [0.2222222222222222, \"#7201a8\"], [0.3333333333333333, \"#9c179e\"], [0.4444444444444444, \"#bd3786\"], [0.5555555555555556, \"#d8576b\"], [0.6666666666666666, \"#ed7953\"], [0.7777777777777778, \"#fb9f3a\"], [0.8888888888888888, \"#fdca26\"], [1.0, \"#f0f921\"]], \"type\": \"heatmap\"}], \"heatmapgl\": [{\"colorbar\": {\"outlinewidth\": 0, \"ticks\": \"\"}, \"colorscale\": [[0.0, \"#0d0887\"], [0.1111111111111111, \"#46039f\"], [0.2222222222222222, \"#7201a8\"], [0.3333333333333333, \"#9c179e\"], [0.4444444444444444, \"#bd3786\"], [0.5555555555555556, \"#d8576b\"], [0.6666666666666666, \"#ed7953\"], [0.7777777777777778, \"#fb9f3a\"], [0.8888888888888888, \"#fdca26\"], [1.0, \"#f0f921\"]], \"type\": \"heatmapgl\"}], \"histogram\": [{\"marker\": {\"colorbar\": {\"outlinewidth\": 0, \"ticks\": \"\"}}, \"type\": \"histogram\"}], \"histogram2d\": [{\"colorbar\": {\"outlinewidth\": 0, \"ticks\": \"\"}, \"colorscale\": [[0.0, \"#0d0887\"], [0.1111111111111111, \"#46039f\"], [0.2222222222222222, \"#7201a8\"], [0.3333333333333333, \"#9c179e\"], [0.4444444444444444, \"#bd3786\"], [0.5555555555555556, \"#d8576b\"], [0.6666666666666666, \"#ed7953\"], [0.7777777777777778, \"#fb9f3a\"], [0.8888888888888888, \"#fdca26\"], [1.0, \"#f0f921\"]], \"type\": \"histogram2d\"}], \"histogram2dcontour\": [{\"colorbar\": {\"outlinewidth\": 0, \"ticks\": \"\"}, \"colorscale\": [[0.0, \"#0d0887\"], [0.1111111111111111, \"#46039f\"], [0.2222222222222222, \"#7201a8\"], [0.3333333333333333, \"#9c179e\"], [0.4444444444444444, \"#bd3786\"], [0.5555555555555556, \"#d8576b\"], [0.6666666666666666, \"#ed7953\"], [0.7777777777777778, \"#fb9f3a\"], [0.8888888888888888, \"#fdca26\"], [1.0, \"#f0f921\"]], \"type\": \"histogram2dcontour\"}], \"mesh3d\": [{\"colorbar\": {\"outlinewidth\": 0, \"ticks\": \"\"}, \"type\": \"mesh3d\"}], \"parcoords\": [{\"line\": {\"colorbar\": {\"outlinewidth\": 0, \"ticks\": \"\"}}, \"type\": \"parcoords\"}], \"pie\": [{\"automargin\": true, \"type\": \"pie\"}], \"scatter\": [{\"marker\": {\"colorbar\": {\"outlinewidth\": 0, \"ticks\": \"\"}}, \"type\": \"scatter\"}], \"scatter3d\": [{\"line\": {\"colorbar\": {\"outlinewidth\": 0, \"ticks\": \"\"}}, \"marker\": {\"colorbar\": {\"outlinewidth\": 0, \"ticks\": \"\"}}, \"type\": \"scatter3d\"}], \"scattercarpet\": [{\"marker\": {\"colorbar\": {\"outlinewidth\": 0, \"ticks\": \"\"}}, \"type\": \"scattercarpet\"}], \"scattergeo\": [{\"marker\": {\"colorbar\": {\"outlinewidth\": 0, \"ticks\": \"\"}}, \"type\": \"scattergeo\"}], \"scattergl\": [{\"marker\": {\"colorbar\": {\"outlinewidth\": 0, \"ticks\": \"\"}}, \"type\": \"scattergl\"}], \"scattermapbox\": [{\"marker\": {\"colorbar\": {\"outlinewidth\": 0, \"ticks\": \"\"}}, \"type\": \"scattermapbox\"}], \"scatterpolar\": [{\"marker\": {\"colorbar\": {\"outlinewidth\": 0, \"ticks\": \"\"}}, \"type\": \"scatterpolar\"}], \"scatterpolargl\": [{\"marker\": {\"colorbar\": {\"outlinewidth\": 0, \"ticks\": \"\"}}, \"type\": \"scatterpolargl\"}], \"scatterternary\": [{\"marker\": {\"colorbar\": {\"outlinewidth\": 0, \"ticks\": \"\"}}, \"type\": \"scatterternary\"}], \"surface\": [{\"colorbar\": {\"outlinewidth\": 0, \"ticks\": \"\"}, \"colorscale\": [[0.0, \"#0d0887\"], [0.1111111111111111, \"#46039f\"], [0.2222222222222222, \"#7201a8\"], [0.3333333333333333, \"#9c179e\"], [0.4444444444444444, \"#bd3786\"], [0.5555555555555556, \"#d8576b\"], [0.6666666666666666, \"#ed7953\"], [0.7777777777777778, \"#fb9f3a\"], [0.8888888888888888, \"#fdca26\"], [1.0, \"#f0f921\"]], \"type\": \"surface\"}], \"table\": [{\"cells\": {\"fill\": {\"color\": \"#EBF0F8\"}, \"line\": {\"color\": \"white\"}}, \"header\": {\"fill\": {\"color\": \"#C8D4E3\"}, \"line\": {\"color\": \"white\"}}, \"type\": \"table\"}]}, \"layout\": {\"annotationdefaults\": {\"arrowcolor\": \"#2a3f5f\", \"arrowhead\": 0, \"arrowwidth\": 1}, \"coloraxis\": {\"colorbar\": {\"outlinewidth\": 0, \"ticks\": \"\"}}, \"colorscale\": {\"diverging\": [[0, \"#8e0152\"], [0.1, \"#c51b7d\"], [0.2, \"#de77ae\"], [0.3, \"#f1b6da\"], [0.4, \"#fde0ef\"], [0.5, \"#f7f7f7\"], [0.6, \"#e6f5d0\"], [0.7, \"#b8e186\"], [0.8, \"#7fbc41\"], [0.9, \"#4d9221\"], [1, \"#276419\"]], \"sequential\": [[0.0, \"#0d0887\"], [0.1111111111111111, \"#46039f\"], [0.2222222222222222, \"#7201a8\"], [0.3333333333333333, \"#9c179e\"], [0.4444444444444444, \"#bd3786\"], [0.5555555555555556, \"#d8576b\"], [0.6666666666666666, \"#ed7953\"], [0.7777777777777778, \"#fb9f3a\"], [0.8888888888888888, \"#fdca26\"], [1.0, \"#f0f921\"]], \"sequentialminus\": [[0.0, \"#0d0887\"], [0.1111111111111111, \"#46039f\"], [0.2222222222222222, \"#7201a8\"], [0.3333333333333333, \"#9c179e\"], [0.4444444444444444, \"#bd3786\"], [0.5555555555555556, \"#d8576b\"], [0.6666666666666666, \"#ed7953\"], [0.7777777777777778, \"#fb9f3a\"], [0.8888888888888888, \"#fdca26\"], [1.0, \"#f0f921\"]]}, \"colorway\": [\"#636efa\", \"#EF553B\", \"#00cc96\", \"#ab63fa\", \"#FFA15A\", \"#19d3f3\", \"#FF6692\", \"#B6E880\", \"#FF97FF\", \"#FECB52\"], \"font\": {\"color\": \"#2a3f5f\"}, \"geo\": {\"bgcolor\": \"white\", \"lakecolor\": \"white\", \"landcolor\": \"#E5ECF6\", \"showlakes\": true, \"showland\": true, \"subunitcolor\": \"white\"}, \"hoverlabel\": {\"align\": \"left\"}, \"hovermode\": \"closest\", \"mapbox\": {\"style\": \"light\"}, \"paper_bgcolor\": \"white\", \"plot_bgcolor\": \"#E5ECF6\", \"polar\": {\"angularaxis\": {\"gridcolor\": \"white\", \"linecolor\": \"white\", \"ticks\": \"\"}, \"bgcolor\": \"#E5ECF6\", \"radialaxis\": {\"gridcolor\": \"white\", \"linecolor\": \"white\", \"ticks\": \"\"}}, \"scene\": {\"xaxis\": {\"backgroundcolor\": \"#E5ECF6\", \"gridcolor\": \"white\", \"gridwidth\": 2, \"linecolor\": \"white\", \"showbackground\": true, \"ticks\": \"\", \"zerolinecolor\": \"white\"}, \"yaxis\": {\"backgroundcolor\": \"#E5ECF6\", \"gridcolor\": \"white\", \"gridwidth\": 2, \"linecolor\": \"white\", \"showbackground\": true, \"ticks\": \"\", \"zerolinecolor\": \"white\"}, \"zaxis\": {\"backgroundcolor\": \"#E5ECF6\", \"gridcolor\": \"white\", \"gridwidth\": 2, \"linecolor\": \"white\", \"showbackground\": true, \"ticks\": \"\", \"zerolinecolor\": \"white\"}}, \"shapedefaults\": {\"line\": {\"color\": \"#2a3f5f\"}}, \"ternary\": {\"aaxis\": {\"gridcolor\": \"white\", \"linecolor\": \"white\", \"ticks\": \"\"}, \"baxis\": {\"gridcolor\": \"white\", \"linecolor\": \"white\", \"ticks\": \"\"}, \"bgcolor\": \"#E5ECF6\", \"caxis\": {\"gridcolor\": \"white\", \"linecolor\": \"white\", \"ticks\": \"\"}}, \"title\": {\"x\": 0.05}, \"xaxis\": {\"automargin\": true, \"gridcolor\": \"white\", \"linecolor\": \"white\", \"ticks\": \"\", \"title\": {\"standoff\": 15}, \"zerolinecolor\": \"white\", \"zerolinewidth\": 2}, \"yaxis\": {\"automargin\": true, \"gridcolor\": \"white\", \"linecolor\": \"white\", \"ticks\": \"\", \"title\": {\"standoff\": 15}, \"zerolinecolor\": \"white\", \"zerolinewidth\": 2}}}, \"title\": {\"text\": \"Training History\"}, \"xaxis\": {\"anchor\": \"y\", \"domain\": [0.0, 1.0], \"title\": {\"text\": \"epoch\"}}, \"yaxis\": {\"anchor\": \"x\", \"domain\": [0.0, 1.0], \"title\": {\"text\": \"MCRMSE\"}}},\n",
       "                        {\"responsive\": true}\n",
       "                    ).then(function(){\n",
       "                            \n",
       "var gd = document.getElementById('2c1fb908-7167-497e-803a-cddd98fcf878');\n",
       "var x = new MutationObserver(function (mutations, observer) {{\n",
       "        var display = window.getComputedStyle(gd).display;\n",
       "        if (!display || display === 'none') {{\n",
       "            console.log([gd, 'removed!']);\n",
       "            Plotly.purge(gd);\n",
       "            observer.disconnect();\n",
       "        }}\n",
       "}});\n",
       "\n",
       "// Listen for the removal of the full notebook cells\n",
       "var notebookContainer = gd.closest('#notebook-container');\n",
       "if (notebookContainer) {{\n",
       "    x.observe(notebookContainer, {childList: true});\n",
       "}}\n",
       "\n",
       "// Listen for the clearing of the current output cell\n",
       "var outputEl = gd.closest('.output');\n",
       "if (outputEl) {{\n",
       "    x.observe(outputEl, {childList: true});\n",
       "}}\n",
       "\n",
       "                        })\n",
       "                };\n",
       "                });\n",
       "            </script>\n",
       "        </div>"
      ]
     },
     "metadata": {},
     "output_type": "display_data"
    }
   ],
   "source": [
    "fig = px.line(\n",
    "    history.history, y=['loss', 'val_loss'],\n",
    "    labels={'index': 'epoch', 'value': 'MCRMSE'}, \n",
    "    title='Training History')\n",
    "fig.show()"
   ]
  },
  {
   "cell_type": "markdown",
   "metadata": {
    "papermill": {
     "duration": 0.059584,
     "end_time": "2020-09-21T19:18:28.834725",
     "exception": false,
     "start_time": "2020-09-21T19:18:28.775141",
     "status": "completed"
    },
    "tags": []
   },
   "source": [
    "## Load models and make predictions"
   ]
  },
  {
   "cell_type": "markdown",
   "metadata": {
    "papermill": {
     "duration": 0.05849,
     "end_time": "2020-09-21T19:18:28.952381",
     "exception": false,
     "start_time": "2020-09-21T19:18:28.893891",
     "status": "completed"
    },
    "tags": []
   },
   "source": [
    "Public and private sets have different sequence lengths, so we will preprocess them separately and load models of different tensor shapes. This is possible because RNN models can accept sequences of varying lengths as inputs."
   ]
  },
  {
   "cell_type": "code",
   "execution_count": 18,
   "metadata": {
    "execution": {
     "iopub.execute_input": "2020-09-21T19:18:29.081211Z",
     "iopub.status.busy": "2020-09-21T19:18:29.080384Z",
     "iopub.status.idle": "2020-09-21T19:18:32.624943Z",
     "shell.execute_reply": "2020-09-21T19:18:32.623548Z"
    },
    "papermill": {
     "duration": 3.613137,
     "end_time": "2020-09-21T19:18:32.625079",
     "exception": false,
     "start_time": "2020-09-21T19:18:29.011942",
     "status": "completed"
    },
    "tags": []
   },
   "outputs": [],
   "source": [
    "# Caveat: The prediction format requires the output to be the same length as the input,\n",
    "# although it's not the case for the training data.\n",
    "model_public = build_model(seq_len=107, pred_len=107, embed_size=len(token2int))\n",
    "model_private = build_model(seq_len=130, pred_len=130, embed_size=len(token2int))\n",
    "\n",
    "model_public.load_weights('model.h5')\n",
    "model_private.load_weights('model.h5')"
   ]
  },
  {
   "cell_type": "code",
   "execution_count": 19,
   "metadata": {
    "execution": {
     "iopub.execute_input": "2020-09-21T19:18:32.817569Z",
     "iopub.status.busy": "2020-09-21T19:18:32.816653Z",
     "iopub.status.idle": "2020-09-21T19:18:38.920559Z",
     "shell.execute_reply": "2020-09-21T19:18:38.919787Z"
    },
    "papermill": {
     "duration": 6.212778,
     "end_time": "2020-09-21T19:18:38.920676",
     "exception": false,
     "start_time": "2020-09-21T19:18:32.707898",
     "status": "completed"
    },
    "tags": []
   },
   "outputs": [],
   "source": [
    "public_preds = model_public.predict(public_inputs)\n",
    "private_preds = model_private.predict(private_inputs)"
   ]
  },
  {
   "cell_type": "markdown",
   "metadata": {
    "papermill": {
     "duration": 0.059717,
     "end_time": "2020-09-21T19:18:39.040680",
     "exception": false,
     "start_time": "2020-09-21T19:18:38.980963",
     "status": "completed"
    },
    "tags": []
   },
   "source": [
    "## Post-processing and submit"
   ]
  },
  {
   "cell_type": "markdown",
   "metadata": {
    "papermill": {
     "duration": 0.059248,
     "end_time": "2020-09-21T19:18:39.160550",
     "exception": false,
     "start_time": "2020-09-21T19:18:39.101302",
     "status": "completed"
    },
    "tags": []
   },
   "source": [
    "For each sample, we take the predicted tensors of shape (107, 5) or (130, 5), and convert them to the long format (i.e. $629 \\times 107, 5$ or $3005 \\times 130, 5$):"
   ]
  },
  {
   "cell_type": "code",
   "execution_count": 20,
   "metadata": {
    "execution": {
     "iopub.execute_input": "2020-09-21T19:18:39.298627Z",
     "iopub.status.busy": "2020-09-21T19:18:39.290040Z",
     "iopub.status.idle": "2020-09-21T19:18:42.757645Z",
     "shell.execute_reply": "2020-09-21T19:18:42.756069Z"
    },
    "papermill": {
     "duration": 3.537034,
     "end_time": "2020-09-21T19:18:42.757815",
     "exception": false,
     "start_time": "2020-09-21T19:18:39.220781",
     "status": "completed"
    },
    "tags": []
   },
   "outputs": [
    {
     "data": {
      "text/html": [
       "<div>\n",
       "<style scoped>\n",
       "    .dataframe tbody tr th:only-of-type {\n",
       "        vertical-align: middle;\n",
       "    }\n",
       "\n",
       "    .dataframe tbody tr th {\n",
       "        vertical-align: top;\n",
       "    }\n",
       "\n",
       "    .dataframe thead th {\n",
       "        text-align: right;\n",
       "    }\n",
       "</style>\n",
       "<table border=\"1\" class=\"dataframe\">\n",
       "  <thead>\n",
       "    <tr style=\"text-align: right;\">\n",
       "      <th></th>\n",
       "      <th>reactivity</th>\n",
       "      <th>deg_Mg_pH10</th>\n",
       "      <th>deg_Mg_50C</th>\n",
       "      <th>deg_pH10</th>\n",
       "      <th>deg_50C</th>\n",
       "      <th>id_seqpos</th>\n",
       "    </tr>\n",
       "  </thead>\n",
       "  <tbody>\n",
       "    <tr>\n",
       "      <th>0</th>\n",
       "      <td>0.644953</td>\n",
       "      <td>0.656179</td>\n",
       "      <td>0.560817</td>\n",
       "      <td>2.190188</td>\n",
       "      <td>0.816280</td>\n",
       "      <td>id_00073f8be_0</td>\n",
       "    </tr>\n",
       "    <tr>\n",
       "      <th>1</th>\n",
       "      <td>2.001678</td>\n",
       "      <td>2.887757</td>\n",
       "      <td>3.189668</td>\n",
       "      <td>4.212739</td>\n",
       "      <td>2.923402</td>\n",
       "      <td>id_00073f8be_1</td>\n",
       "    </tr>\n",
       "    <tr>\n",
       "      <th>2</th>\n",
       "      <td>1.543184</td>\n",
       "      <td>0.650908</td>\n",
       "      <td>0.751681</td>\n",
       "      <td>0.649774</td>\n",
       "      <td>0.794960</td>\n",
       "      <td>id_00073f8be_2</td>\n",
       "    </tr>\n",
       "    <tr>\n",
       "      <th>3</th>\n",
       "      <td>1.296455</td>\n",
       "      <td>1.225748</td>\n",
       "      <td>1.745702</td>\n",
       "      <td>1.246848</td>\n",
       "      <td>1.849931</td>\n",
       "      <td>id_00073f8be_3</td>\n",
       "    </tr>\n",
       "    <tr>\n",
       "      <th>4</th>\n",
       "      <td>0.871654</td>\n",
       "      <td>0.638310</td>\n",
       "      <td>0.908713</td>\n",
       "      <td>0.514869</td>\n",
       "      <td>0.922198</td>\n",
       "      <td>id_00073f8be_4</td>\n",
       "    </tr>\n",
       "  </tbody>\n",
       "</table>\n",
       "</div>"
      ],
      "text/plain": [
       "   reactivity  deg_Mg_pH10  deg_Mg_50C  deg_pH10   deg_50C       id_seqpos\n",
       "0    0.644953     0.656179    0.560817  2.190188  0.816280  id_00073f8be_0\n",
       "1    2.001678     2.887757    3.189668  4.212739  2.923402  id_00073f8be_1\n",
       "2    1.543184     0.650908    0.751681  0.649774  0.794960  id_00073f8be_2\n",
       "3    1.296455     1.225748    1.745702  1.246848  1.849931  id_00073f8be_3\n",
       "4    0.871654     0.638310    0.908713  0.514869  0.922198  id_00073f8be_4"
      ]
     },
     "execution_count": 20,
     "metadata": {},
     "output_type": "execute_result"
    }
   ],
   "source": [
    "preds_ls = []\n",
    "\n",
    "for df, preds in [(public_df, public_preds), (private_df, private_preds)]:\n",
    "    for i, uid in enumerate(df.id):\n",
    "        single_pred = preds[i]\n",
    "\n",
    "        single_df = pd.DataFrame(single_pred, columns=pred_cols)\n",
    "        single_df['id_seqpos'] = [f'{uid}_{x}' for x in range(single_df.shape[0])]\n",
    "\n",
    "        preds_ls.append(single_df)\n",
    "\n",
    "preds_df = pd.concat(preds_ls)\n",
    "preds_df.head()"
   ]
  },
  {
   "cell_type": "code",
   "execution_count": 21,
   "metadata": {
    "execution": {
     "iopub.execute_input": "2020-09-21T19:18:42.991678Z",
     "iopub.status.busy": "2020-09-21T19:18:42.990856Z",
     "iopub.status.idle": "2020-09-21T19:18:47.830133Z",
     "shell.execute_reply": "2020-09-21T19:18:47.828863Z"
    },
    "papermill": {
     "duration": 4.955926,
     "end_time": "2020-09-21T19:18:47.830273",
     "exception": false,
     "start_time": "2020-09-21T19:18:42.874347",
     "status": "completed"
    },
    "tags": []
   },
   "outputs": [],
   "source": [
    "submission = sample_df[['id_seqpos']].merge(preds_df, on=['id_seqpos'])\n",
    "submission.to_csv('submission.csv', index=False)"
   ]
  }
 ],
 "metadata": {
  "kernelspec": {
   "display_name": "Python 3",
   "language": "python",
   "name": "python3"
  },
  "language_info": {
   "codemirror_mode": {
    "name": "ipython",
    "version": 3
   },
   "file_extension": ".py",
   "mimetype": "text/x-python",
   "name": "python",
   "nbconvert_exporter": "python",
   "pygments_lexer": "ipython3",
   "version": "3.7.6"
  },
  "papermill": {
   "duration": 268.991064,
   "end_time": "2020-09-21T19:18:49.099612",
   "environment_variables": {},
   "exception": null,
   "input_path": "__notebook__.ipynb",
   "output_path": "__notebook__.ipynb",
   "parameters": {},
   "start_time": "2020-09-21T19:14:20.108548",
   "version": "2.1.0"
  }
 },
 "nbformat": 4,
 "nbformat_minor": 4
}
