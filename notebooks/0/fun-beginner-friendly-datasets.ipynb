{
 "cells": [
  {
   "cell_type": "markdown",
   "metadata": {
    "_cell_guid": "63d7d4ae-8e95-4d9c-870c-e5ea5bb5bc08",
    "_uuid": "1ece3ea6999274e4145b3dc410df0e88f0191822"
   },
   "source": [
    "There are a lot of datasets on Kaggle, and sometimes it can be hard to find one to get started with. Below, I've pulled together some fun, beginner friendly datasets on a range of topics. Enjoy! :D\n",
    "\n",
    "## Categorical (Suitable for barchart/chi-squared)\n",
    "* [Digimon Database: A database of Digimon and their moves from Digimon Story CyberSleuth](https://www.kaggle.com/rtatman/digidb)\n",
    "* [80 Cereals: Nutrition data on 80 cereal products](https://www.kaggle.com/crawford/80-cereals)\n",
    "* [Dogs of Zurich: Data about Dog Owners in Zurich, Switzerland](https://www.kaggle.com/kmader/dogs-of-zurich)\n",
    "* [Animal Bites: Data on over 9,000 bites, including rabies tests](https://www.kaggle.com/rtatman/animal-bites)\n",
    "* [Aircraft Wildlife Strikes, 1990-2015: What bird species has caused the most damage to airplanes?](https://www.kaggle.com/faa/wildlife-strikes)\n",
    "* [UFO Sightings: Reports of unidentified flying object reports in the last century](https://www.kaggle.com/NUFORC/ufo-sightings)\n",
    "* [LEGO Database: The LEGO Parts/Sets/Colors and Inventories of every official LEGO set](https://www.kaggle.com/rtatman/lego-database)\n",
    "* [Adverse Food Events: 90k FDA Recorded Medical Events](https://www.kaggle.com/fda/adverse-food-events)\n",
    "\n",
    "## Numeric (Suitable for histogram/t-test)\n",
    "* [A millennium of macroeconomic data: Economic Data for the UK from 1086-2016](https://www.kaggle.com/bank-of-england/a-millennium-of-macroeconomic-data)\n",
    "* [Gene expression dataset (Golub et al.): Molecular Classification of Cancer by Gene Expression Monitoring](https://www.kaggle.com/crawford/gene-expression)\n",
    "* [80 Cereals: Nutrition data on 80 cereal products](https://www.kaggle.com/crawford/80-cereals)\n",
    "* [1000 Cameras Dataset: Data describing 1000 cameras in 13 properties](https://www.kaggle.com/crawford/1000-cameras-dataset/)\n",
    "* [Museums, Aquariums, and Zoos: Name, location, and revenue for every museum in the United States](https://www.kaggle.com/imls/museum-directory)\n",
    "* [~~Where it Pays to Attend College: Salaries by college, region, and academic major~~](https://www.kaggle.com/wsj/college-salaries) (This dataset requires some cleaning before use.)\n",
    "* [Women's Shoe Prices: A list of 10,000 women's shoes and the prices at which they are sold](https://www.kaggle.com/datafiniti/womens-shoes-prices)\n",
    "* [Nutrition facts for Starbucks Menu: Nutrition information for Starbucks menu items, including food and drinks](https://www.kaggle.com/starbucks/starbucks-menu)\n",
    "* [2016 Parties in New York: 225k noise complaints to the police about ongoing parties in the city](https://www.kaggle.com/somesnm/partynyc)\n",
    "* [Metal Bands by Nation](https://www.kaggle.com/mrpantherson/metal-by-nation/)\n",
    "* [Groundhog Day Forecasts and Temperatures: How accurate is Punxsutawney Phil's winter weather forecast?](https://www.kaggle.com/groundhogclub/groundhog-day)\n"
   ]
  },
  {
   "cell_type": "markdown",
   "metadata": {
    "_cell_guid": "5cf9e524-0c51-45c7-8a59-0759653b1137",
    "_uuid": "30969b6381a9f1c4aa1ea1afe4d6a195534965de"
   },
   "source": []
  }
 ],
 "metadata": {
  "kernelspec": {
   "display_name": "Python 3",
   "language": "python",
   "name": "python3"
  },
  "language_info": {
   "codemirror_mode": {
    "name": "ipython",
    "version": 3
   },
   "file_extension": ".py",
   "mimetype": "text/x-python",
   "name": "python",
   "nbconvert_exporter": "python",
   "pygments_lexer": "ipython3",
   "version": "3.6.3"
  }
 },
 "nbformat": 4,
 "nbformat_minor": 1
}
